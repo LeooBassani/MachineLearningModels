{
 "cells": [
  {
   "cell_type": "markdown",
   "metadata": {},
   "source": [
    "# Prevendo o Preço do Pizza"
   ]
  },
  {
   "cell_type": "markdown",
   "metadata": {},
   "source": [
    "## Modelagem para prever o preço da próxima pizza utilizando o método de regressão linear"
   ]
  },
  {
   "cell_type": "markdown",
   "metadata": {},
   "source": [
    "## Vamos modelar a relação entre a quantidade de fatias de uma pizza com o seu respectivo preço, utilizando dados históricos, escrevendo um modelo de Sckit-Learn para prever o preço da próxima pizza"
   ]
  },
  {
   "cell_type": "code",
   "execution_count": 1,
   "metadata": {},
   "outputs": [],
   "source": [
    "# Importando o Matplotlib, Numpy e Pandas\n",
    "import matplotlib.pyplot as plt\n",
    "import matplotlib as mat\n",
    "import numpy as np\n",
    "%matplotlib inline\n",
    "import pandas as pd"
   ]
  },
  {
   "cell_type": "code",
   "execution_count": 2,
   "metadata": {},
   "outputs": [],
   "source": [
    "# Lendo o arquivo Excel\n",
    "dados = pd.read_excel(\"pizza.xlsx\")"
   ]
  },
  {
   "cell_type": "code",
   "execution_count": 3,
   "metadata": {},
   "outputs": [
    {
     "data": {
      "text/html": [
       "<div>\n",
       "<style scoped>\n",
       "    .dataframe tbody tr th:only-of-type {\n",
       "        vertical-align: middle;\n",
       "    }\n",
       "\n",
       "    .dataframe tbody tr th {\n",
       "        vertical-align: top;\n",
       "    }\n",
       "\n",
       "    .dataframe thead th {\n",
       "        text-align: right;\n",
       "    }\n",
       "</style>\n",
       "<table border=\"1\" class=\"dataframe\">\n",
       "  <thead>\n",
       "    <tr style=\"text-align: right;\">\n",
       "      <th></th>\n",
       "      <th>Sabor</th>\n",
       "      <th>Fatias</th>\n",
       "      <th>Preço</th>\n",
       "    </tr>\n",
       "  </thead>\n",
       "  <tbody>\n",
       "    <tr>\n",
       "      <th>0</th>\n",
       "      <td>Calabresa</td>\n",
       "      <td>12</td>\n",
       "      <td>34.5</td>\n",
       "    </tr>\n",
       "    <tr>\n",
       "      <th>1</th>\n",
       "      <td>Portuguesa</td>\n",
       "      <td>12</td>\n",
       "      <td>34.5</td>\n",
       "    </tr>\n",
       "    <tr>\n",
       "      <th>2</th>\n",
       "      <td>Calabresa</td>\n",
       "      <td>6</td>\n",
       "      <td>28.0</td>\n",
       "    </tr>\n",
       "    <tr>\n",
       "      <th>3</th>\n",
       "      <td>Filé</td>\n",
       "      <td>12</td>\n",
       "      <td>36.0</td>\n",
       "    </tr>\n",
       "    <tr>\n",
       "      <th>4</th>\n",
       "      <td>Chocolate</td>\n",
       "      <td>6</td>\n",
       "      <td>30.0</td>\n",
       "    </tr>\n",
       "    <tr>\n",
       "      <th>5</th>\n",
       "      <td>Filé</td>\n",
       "      <td>18</td>\n",
       "      <td>42.0</td>\n",
       "    </tr>\n",
       "    <tr>\n",
       "      <th>6</th>\n",
       "      <td>Filé</td>\n",
       "      <td>18</td>\n",
       "      <td>42.0</td>\n",
       "    </tr>\n",
       "    <tr>\n",
       "      <th>7</th>\n",
       "      <td>Calabresa</td>\n",
       "      <td>18</td>\n",
       "      <td>37.5</td>\n",
       "    </tr>\n",
       "    <tr>\n",
       "      <th>8</th>\n",
       "      <td>Brócolis</td>\n",
       "      <td>12</td>\n",
       "      <td>34.5</td>\n",
       "    </tr>\n",
       "    <tr>\n",
       "      <th>9</th>\n",
       "      <td>Milho</td>\n",
       "      <td>12</td>\n",
       "      <td>34.5</td>\n",
       "    </tr>\n",
       "    <tr>\n",
       "      <th>10</th>\n",
       "      <td>Chocolate</td>\n",
       "      <td>6</td>\n",
       "      <td>30.0</td>\n",
       "    </tr>\n",
       "    <tr>\n",
       "      <th>11</th>\n",
       "      <td>Filé</td>\n",
       "      <td>18</td>\n",
       "      <td>42.0</td>\n",
       "    </tr>\n",
       "    <tr>\n",
       "      <th>12</th>\n",
       "      <td>Filé</td>\n",
       "      <td>12</td>\n",
       "      <td>36.0</td>\n",
       "    </tr>\n",
       "    <tr>\n",
       "      <th>13</th>\n",
       "      <td>Marguerita</td>\n",
       "      <td>18</td>\n",
       "      <td>34.0</td>\n",
       "    </tr>\n",
       "    <tr>\n",
       "      <th>14</th>\n",
       "      <td>Calabresa</td>\n",
       "      <td>24</td>\n",
       "      <td>45.0</td>\n",
       "    </tr>\n",
       "  </tbody>\n",
       "</table>\n",
       "</div>"
      ],
      "text/plain": [
       "         Sabor  Fatias  Preço\n",
       "0    Calabresa      12   34.5\n",
       "1   Portuguesa      12   34.5\n",
       "2    Calabresa       6   28.0\n",
       "3         Filé      12   36.0\n",
       "4    Chocolate       6   30.0\n",
       "5         Filé      18   42.0\n",
       "6         Filé      18   42.0\n",
       "7    Calabresa      18   37.5\n",
       "8     Brócolis      12   34.5\n",
       "9        Milho      12   34.5\n",
       "10   Chocolate       6   30.0\n",
       "11        Filé      18   42.0\n",
       "12        Filé      12   36.0\n",
       "13  Marguerita      18   34.0\n",
       "14   Calabresa      24   45.0"
      ]
     },
     "execution_count": 3,
     "metadata": {},
     "output_type": "execute_result"
    }
   ],
   "source": [
    "dados"
   ]
  },
  {
   "cell_type": "code",
   "execution_count": 4,
   "metadata": {},
   "outputs": [
    {
     "data": {
      "text/plain": [
       "array([12, 12,  6, 12,  6, 18, 18, 18, 12, 12,  6, 18, 12, 18, 24],\n",
       "      dtype=int64)"
      ]
     },
     "execution_count": 4,
     "metadata": {},
     "output_type": "execute_result"
    }
   ],
   "source": [
    "# Gravado a variável fatias\n",
    "Fatias = np.array(dados[\"Fatias\"])\n",
    "Fatias"
   ]
  },
  {
   "cell_type": "code",
   "execution_count": 5,
   "metadata": {},
   "outputs": [
    {
     "data": {
      "text/plain": [
       "array([34.5, 34.5, 28. , 36. , 30. , 42. , 42. , 37.5, 34.5, 34.5, 30. ,\n",
       "       42. , 36. , 34. , 45. ])"
      ]
     },
     "execution_count": 5,
     "metadata": {},
     "output_type": "execute_result"
    }
   ],
   "source": [
    "# Gravando a variável preço\n",
    "Preco = np.array(dados[\"Preço\"])\n",
    "Preco"
   ]
  },
  {
   "cell_type": "code",
   "execution_count": 6,
   "metadata": {},
   "outputs": [
    {
     "data": {
      "image/png": "[encoded data removed]",
      "text/plain": [
       "<Figure size 432x288 with 1 Axes>"
      ]
     },
     "metadata": {
      "needs_background": "light"
     },
     "output_type": "display_data"
    }
   ],
   "source": [
    "# Visualizando os dados construindo um plot\n",
    "plt.figure()\n",
    "plt.xlabel(\"Fatias\")\n",
    "plt.ylabel(\"Preco\")\n",
    "plt.title(\"Fatias x Preço\")\n",
    "plt.plot(Fatias, Preco, \"k.\")\n",
    "plt.axis([0, 30, 25, 50])\n",
    "plt.grid(True)\n",
    "plt.show()"
   ]
  },
  {
   "cell_type": "markdown",
   "metadata": {},
   "source": [
    "### Pelo gráfico podemos observar uma relação positiva entre os eixos, uma vez que o preço da pizza aumenta conforme a quatidade de fatias. Porém, isso não representa uma tendência clara por si só, pois o preço da pizza poderá aumentar também conforme sabor e pizzaria, por exemplo."
   ]
  },
  {
   "cell_type": "markdown",
   "metadata": {},
   "source": [
    "## Agora utilizando o pacote Sciki-Learn poderemos implementar um modelo de Machine Learning "
   ]
  },
  {
   "cell_type": "code",
   "execution_count": 7,
   "metadata": {},
   "outputs": [],
   "source": [
    "# Importando o pacote e o módulo de Regressão Linear\n",
    "import sklearn\n",
    "from sklearn.linear_model import LinearRegression"
   ]
  },
  {
   "cell_type": "code",
   "execution_count": 8,
   "metadata": {},
   "outputs": [],
   "source": [
    "# Preparando os dados de treino\n",
    "\n",
    "# Denominando de X os dados referentes as fatias\n",
    "X = Fatias[:, np.newaxis]\n",
    "    \n",
    "# Denominando de Y os dados referentes aos preços\n",
    "Y = Preco"
   ]
  },
  {
   "cell_type": "code",
   "execution_count": 9,
   "metadata": {},
   "outputs": [],
   "source": [
    "# Criando o modelo\n",
    "modelo = LinearRegression()"
   ]
  },
  {
   "cell_type": "code",
   "execution_count": 10,
   "metadata": {},
   "outputs": [
    {
     "data": {
      "text/plain": [
       "LinearRegression(copy_X=True, fit_intercept=True, n_jobs=None, normalize=False)"
      ]
     },
     "execution_count": 10,
     "metadata": {},
     "output_type": "execute_result"
    }
   ],
   "source": [
    "# Treinando o modelo\n",
    "# Por meio deste modelo o método de Machine Learning irá analisar e filtrar os dados para assim fazer uma previsão\n",
    "# Onde Y será a variável que queremos prever, neste caso o preço e X será nossa variável predidora \n",
    "modelo.fit(X,Y)"
   ]
  },
  {
   "cell_type": "code",
   "execution_count": 11,
   "metadata": {},
   "outputs": [
    {
     "name": "stdout",
     "output_type": "stream",
     "text": [
      "Quantas fatias você deseja? 23\n",
      "Uma pizza de 23 fatias deve custar R$43.97\n"
     ]
    }
   ],
   "source": [
    "# Prevendo o preço da pizza\n",
    "escolha = int(input(\"Quantas fatias você deseja? \"))\n",
    "valor = modelo.predict([[escolha]])\n",
    "print(\"Uma pizza de %s fatias deve custar R$%.2f\" %(escolha, valor))"
   ]
  },
  {
   "cell_type": "code",
   "execution_count": 12,
   "metadata": {},
   "outputs": [
    {
     "data": {
      "image/png": "[encoded data removed]",
      "text/plain": [
       "<Figure size 432x288 with 1 Axes>"
      ]
     },
     "metadata": {
      "needs_background": "light"
     },
     "output_type": "display_data"
    }
   ],
   "source": [
    "# Representando uma regressão linear\n",
    "plt.scatter(X,Y, color = \"black\")\n",
    "plt.plot(X, modelo.predict(X), color = \"blue\", linewidth = 3)\n",
    "plt.xlabel('X')\n",
    "plt.ylabel(\"Y\")\n",
    "plt.show()"
   ]
  }
 ],
 "metadata": {
  "kernelspec": {
   "display_name": "Python 3",
   "language": "python",
   "name": "python3"
  },
  "language_info": {
   "codemirror_mode": {
    "name": "ipython",
    "version": 3
   },
   "file_extension": ".py",
   "mimetype": "text/x-python",
   "name": "python",
   "nbconvert_exporter": "python",
   "pygments_lexer": "ipython3",
   "version": "3.7.6"
  }
 },
 "nbformat": 4,
 "nbformat_minor": 4
}
